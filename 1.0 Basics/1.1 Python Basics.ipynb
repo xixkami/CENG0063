{
 "cells": [
  {
   "cell_type": "markdown",
   "metadata": {},
   "source": [
    "Python is a popular programming lnguage that is widely used for building data-driven applications. "
   ]
  },
  {
   "cell_type": "markdown",
   "metadata": {},
   "source": [
    "Some useful resources while learning Python: \n",
    "- w3schools \n",
    "- docs.python.org\n",
    "- pythontutorial.net\n"
   ]
  },
  {
   "cell_type": "markdown",
   "metadata": {},
   "source": [
    "# Python Overview:\n",
    "- Python is a high-level, easy-to-read programming language with a large ecosystem of libraries like NumPy, pandas, and scikit-learn, making it ideal for data-driven applications.\n",
    "- It is dynamic (no need for explicit type declaration) and supports object-oriented programming.\n",
    "\n",
    "## Key Python Features:\n",
    "- **Scripting & Interpreted**: Python doesn’t need to be compiled and is easy to use for quick scripting.\n",
    "- **Dynamic Typing**: Variable types are assigned at runtime (e.g., `x = \"hello\"` or `x = 123`).\n",
    "- **Readable & Flexible**: Python’s syntax is clean and flexible, though this can sometimes lead to performance bottlenecks.\n",
    "\n",
    "## Python Core Concepts:\n",
    "- **Indentation**: Indentation is used to define code blocks.\n",
    "- **Types**: Basic types include strings, integers, floats, booleans, and more. Type checking is done using `type()`.\n",
    "- **Lists**: Ordered collections that can hold mixed types. They support operations like appending, sorting, and slicing.\n",
    "- **Dictionaries**: Key-value pairs that are flexible and efficient for storing data.\n",
    "- **Tuples**: Immutable collections (like lists) that cannot be modified after creation.\n",
    "- **Functions**: Functions organize code and can accept default or variable arguments.\n",
    "\n",
    "## Control Flow:\n",
    "- **Loops**: Use `for` and `while` for iteration, and `if/elif/else` for conditional checks.\n",
    "- **Logical Operators**: `and`, `or`, and `not` for boolean logic.\n",
    "\n",
    "## Objects & Classes:\n",
    "- Python supports object-oriented programming with classes. Classes encapsulate data and methods, and can be extended (inherited) to add new functionality."
   ]
  }
 ],
 "metadata": {
  "kernelspec": {
   "display_name": "Python 3",
   "language": "python",
   "name": "python3"
  },
  "language_info": {
   "codemirror_mode": {
    "name": "ipython",
    "version": 3
   },
   "file_extension": ".py",
   "mimetype": "text/x-python",
   "name": "python",
   "nbconvert_exporter": "python",
   "pygments_lexer": "ipython3",
   "version": "3.12.1"
  }
 },
 "nbformat": 4,
 "nbformat_minor": 2
}
