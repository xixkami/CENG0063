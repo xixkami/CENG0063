{
 "cells": [
  {
   "cell_type": "markdown",
   "metadata": {},
   "source": [
    "### 1. **NumPy Overview**:\n",
    "- NumPy is a powerful open-source library for scientific computing in Python, designed to efficiently handle large, multi-dimensional arrays and matrices of numerical data.\n",
    "- It provides tools for linear algebra and is built on libraries like BLAS and LAPACK. It integrates well with other packages like SciPy for higher-level numerical algorithms.\n",
    "\n",
    "### 2. **Creating Arrays**:\n",
    "- NumPy's core object is the `ndarray`, which can be created using `np.array`.\n",
    "- Arrays support element-wise operations, which differ from lists in Python (e.g., `a == [1,2,4]` for arrays vs. element-wise checks for ndarrays).\n",
    "\n",
    "### 3. **Useful Array Operations**:\n",
    "- **Cumulative sum**: `a.cumsum()`\n",
    "- **Maximum**: `a.max()`\n",
    "- **Element-wise operations**: operations like `a + a`, `np.sqrt(a)`, `np.mean(a)` are supported.\n",
    "- **Data type conversions**: Arrays can be cast to different types (e.g., `dtype=float` or `dtype=complex`).\n",
    "\n",
    "### 4. **Multidimensional Arrays**:\n",
    "- Arrays can be 1D, 2D, or multi-dimensional, and you can reshape arrays using `reshape()`.\n",
    "- Operations like transposing arrays (`a.T`) or slicing (e.g., `m[0,:]`) are available.\n",
    "\n",
    "### 5. **Efficient Array Manipulation**:\n",
    "- **Performance**: Avoid Python loops over large datasets; NumPy operations are highly optimized and faster.\n",
    "- **Vectorized Operations**: Use vectorized operations in NumPy to take advantage of SIMD parallelism and avoid slow Python loops.\n",
    "\n",
    "### 6. **Plotting with Matplotlib**:\n",
    "- Matplotlib is used in conjunction with NumPy to visualize data. Example: plotting a sine and cosine curve using `plt.plot(x, np.cos(x))`.\n",
    "\n",
    "### 7. **Efficiency**:\n",
    "- Using loops with NumPy can result in performance bottlenecks. NumPy allows for compact and readable code that runs much faster.\n",
    "- **Benchmarking**: Compare Python and NumPy code speed using `%timeit`.\n",
    "\n",
    "### 8. **Reshaping and Adding Dimensions**:\n",
    "- You can reshape arrays using `.reshape()` or `np.expand_dims()`, and you can add a new axis using slicing (`np.newaxis`).\n",
    "\n",
    "### 9. **Linear Algebra Operations**:\n",
    "- **Dot product**: `np.dot(A, b)` is much faster than writing nested loops for matrix multiplication.\n",
    "- **Matrix operations**: Use optimized methods like `np.sum()` and `np.dot()` for large matrix computations.\n",
    "\n",
    "### 10. **Memory and Copying**:\n",
    "- Be cautious about copying arrays, as slicing can sometimes return views instead of copies. Use `.copy()` for explicit copying.\n"
   ]
  }
 ],
 "metadata": {
  "language_info": {
   "name": "python"
  }
 },
 "nbformat": 4,
 "nbformat_minor": 2
}
