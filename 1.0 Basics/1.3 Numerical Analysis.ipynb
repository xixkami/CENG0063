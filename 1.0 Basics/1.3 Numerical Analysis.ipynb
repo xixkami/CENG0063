{
 "cells": [
  {
   "cell_type": "markdown",
   "metadata": {},
   "source": [
    "There are libraries in Python such as scipy which can be used for advanced numerical analysis. \n",
    "We can use these libraries to solve problems such as definite integrals. "
   ]
  },
  {
   "cell_type": "markdown",
   "metadata": {},
   "source": [
    "Let's say we had to solve this integral using numpy: \n",
    "$$\n",
    "\\int_{a}^{b} (x^3 + x^2 + x + 5 )dx\n",
    "$$ \n"
   ]
  },
  {
   "cell_type": "markdown",
   "metadata": {},
   "source": [
    "Let's take a = 0, b = 1; \n",
    "Using numpy:"
   ]
  },
  {
   "cell_type": "code",
   "execution_count": 2,
   "metadata": {},
   "outputs": [
    {
     "data": {
      "text/plain": [
       "6.0818337499999995"
      ]
     },
     "execution_count": 2,
     "metadata": {},
     "output_type": "execute_result"
    }
   ],
   "source": [
    "import numpy as np\n",
    "\n",
    "# First let's decide on an intergral interval\n",
    "x= np.arange(0,1,0.001)\n",
    "# Now let's define the function\n",
    "f = x**3 + x**2 + x + 5\n",
    "\n",
    "# Now let's calculate the integral\n",
    "np.sum(f)*0.001"
   ]
  },
  {
   "cell_type": "markdown",
   "metadata": {},
   "source": [
    "This is one way to do things. \n",
    "Another way could be using scipy library;"
   ]
  },
  {
   "cell_type": "code",
   "execution_count": 3,
   "metadata": {},
   "outputs": [
    {
     "name": "stdout",
     "output_type": "stream",
     "text": [
      "6.083333333333334\n",
      "6.75385673313637e-14\n"
     ]
    }
   ],
   "source": [
    "from scipy.integrate import quad\n",
    "\n",
    "def integrand(x):\n",
    "    return x**3 + x**2 + x + 5\n",
    "\n",
    "ans, err = quad(integrand, 0, 1)\n",
    "print(ans)\n",
    "print(err)"
   ]
  },
  {
   "cell_type": "markdown",
   "metadata": {},
   "source": [
    "Now our use case depends on the function. If we can easily define the interval then we can use both methods. But in most cases we know only the function and the limits, hence it is better to utilise scipy quad function."
   ]
  },
  {
   "cell_type": "markdown",
   "metadata": {},
   "source": [
    "### Note:\n",
    "There are certain functions common in python libraries and depending on our use case we can utilise different libraries. \n",
    "For example, for quick calculations we could use math library, meanwhile for more complex calculations we could utilise numpy's variant as it could be much faster at times when compared to math."
   ]
  },
  {
   "cell_type": "markdown",
   "metadata": {},
   "source": [
    "Let's now try to solve a system of linear equations. This is possible, for example, with [`numpy.linalg.solve`](https://numpy.org/doc/stable/reference/generated/numpy.linalg.solve.html). Let's consider an example taken from [Deisenroth et al. (2020)](https://mml-book.github.io/book/mml-book.pdf):\n",
    "\n",
    "$$ x_{1} + x_{2} + x_{3} = 3 $$\n",
    "$$ x_{1} - x_{2} + 2x_{3} = 2 $$\n",
    "$$ x_{2} + x_{3} = 2 $$\n",
    "\n",
    "We can write this system is a matrix form, i.e., $$ \\textbf{A} \\cdot \\textbf{x} = \\textbf{b} $$\n",
    "with \n",
    "$$ \\textbf{A} = \\begin{bmatrix}\n",
    "                           1 & 1 & 1 \\\\\n",
    "                           1 & -1 & 2 \\\\\n",
    "                           0 & 1 & 1 \n",
    "                \\end{bmatrix} \\quad, $$ \n",
    "                \n",
    "$$ \\textbf{x} = \\begin{bmatrix}\n",
    "                           x_{1} \\\\\n",
    "                           x_{2} \\\\\n",
    "                           x_{3} \n",
    "                \\end{bmatrix} $$ \n",
    "and \n",
    "\n",
    "$$ \\textbf{b} = \\begin{bmatrix}\n",
    "                           3 \\\\\n",
    "                           2 \\\\\n",
    "                           2 \n",
    "                    \\end{bmatrix} $$ "
   ]
  },
  {
   "cell_type": "code",
   "execution_count": 4,
   "metadata": {},
   "outputs": [
    {
     "data": {
      "text/plain": [
       "array([1., 1., 1.])"
      ]
     },
     "execution_count": 4,
     "metadata": {},
     "output_type": "execute_result"
    }
   ],
   "source": [
    "import numpy as np \n",
    "\n",
    "# This represents the system of equations\n",
    "# 1*x + 1*y + 1*z = 3 etc.\n",
    "A = np.array([[1, 1, 1],\n",
    "              [1, -1, 2],\n",
    "              [0, 1, 1]])\n",
    "\n",
    "b = np.array([3, 2, 2])\n",
    "\n",
    "x = np.linalg.solve(A, b)\n",
    "x"
   ]
  },
  {
   "cell_type": "code",
   "execution_count": 5,
   "metadata": {},
   "outputs": [
    {
     "data": {
      "text/plain": [
       "-2.9999999999999996"
      ]
     },
     "execution_count": 5,
     "metadata": {},
     "output_type": "execute_result"
    }
   ],
   "source": [
    "# To find the determinant of a matrix\n",
    "np.linalg.det(A)"
   ]
  },
  {
   "cell_type": "code",
   "execution_count": null,
   "metadata": {},
   "outputs": [],
   "source": []
  }
 ],
 "metadata": {
  "kernelspec": {
   "display_name": "Python 3",
   "language": "python",
   "name": "python3"
  },
  "language_info": {
   "codemirror_mode": {
    "name": "ipython",
    "version": 3
   },
   "file_extension": ".py",
   "mimetype": "text/x-python",
   "name": "python",
   "nbconvert_exporter": "python",
   "pygments_lexer": "ipython3",
   "version": "3.12.1"
  }
 },
 "nbformat": 4,
 "nbformat_minor": 2
}
